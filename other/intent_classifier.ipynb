{
  "nbformat": 4,
  "nbformat_minor": 0,
  "metadata": {
    "colab": {
      "provenance": []
    },
    "kernelspec": {
      "name": "python3",
      "display_name": "Python 3"
    },
    "language_info": {
      "name": "python"
    }
  },
  "cells": [
    {
      "cell_type": "code",
      "execution_count": null,
      "metadata": {
        "id": "l6EuZdn3AjwX"
      },
      "outputs": [],
      "source": [
        "import numpy as np\n",
        "import pandas as pd\n",
        "import tensorflow as tf\n",
        "from sklearn.preprocessing import LabelEncoder\n",
        "\n",
        "from tensorflow.keras.preprocessing.text import Tokenizer\n",
        "from tensorflow.keras.preprocessing.sequence import pad_sequences\n",
        "\n",
        "import torch\n",
        "from torch import nn\n",
        "from torch.optim import Adam\n",
        "from torch.utils.data import TensorDataset, DataLoader"
      ]
    },
    {
      "cell_type": "code",
      "source": [
        "def seed_everything(seed_value):\n",
        "    np.random.seed(seed_value)\n",
        "    torch.manual_seed(seed_value)\n",
        "\n",
        "    if torch.cuda.is_available():\n",
        "        torch.cuda.manual_seed(seed_value)\n",
        "        torch.cuda.manual_seed_all(seed_value)\n",
        "        torch.backends.cudnn.deterministic = True\n",
        "        torch.backends.cudnn.benchmark = True\n",
        "\n",
        "\n",
        "seed_everything(86)"
      ],
      "metadata": {
        "id": "1blpiGafgpbt"
      },
      "execution_count": null,
      "outputs": []
    },
    {
      "cell_type": "code",
      "source": [
        "train_df = pd.read_csv(\"sentences.csv\")\n",
        "test_df = pd.read_csv(\"test sentences.csv\")"
      ],
      "metadata": {
        "id": "ZR8gRoIsBibP"
      },
      "execution_count": null,
      "outputs": []
    },
    {
      "cell_type": "code",
      "source": [
        "device = torch.device(\"cpu\")\n",
        "labels = [\"enroll\", \"search\", \"inform\"]\n",
        "label_encoder = LabelEncoder()\n",
        "label_encoder.fit_transform(labels)\n",
        "\n",
        "train_sentences = train_df[\"Sentence\"].tolist()\n",
        "test_sentences = test_df[\"Sentence\"].tolist()\n",
        "tokenizer = Tokenizer(num_words=1000, oov_token=\"<OOV>\")\n",
        "tokenizer.fit_on_texts(train_sentences)\n",
        "\n",
        "train_sequences = tokenizer.texts_to_sequences(train_sentences)\n",
        "test_sequences = tokenizer.texts_to_sequences(test_sentences)\n",
        "\n",
        "train_padded = pad_sequences(train_sequences, maxlen=30, padding=\"post\", truncating=\"post\")\n",
        "test_padded = pad_sequences(test_sequences, maxlen=30, padding=\"post\", truncating=\"post\")\n",
        "\n",
        "train_inputs = torch.tensor(train_padded)\n",
        "test_inputs = torch.tensor(test_padded)\n",
        "\n",
        "train_labels = label_encoder.transform(train_df[\"Intent\"].values)\n",
        "test_labels = label_encoder.transform(test_df[\"Intent\"].values)\n",
        "\n",
        "train_targets = torch.tensor(train_labels)\n",
        "test_targets = torch.tensor(test_labels)\n",
        "\n",
        "train_dataset = TensorDataset(train_inputs, train_targets)\n",
        "test_dataset = TensorDataset(test_inputs, test_targets)\n",
        "\n",
        "train_loader = DataLoader(train_dataset, batch_size=1, shuffle=True)\n",
        "test_loader = DataLoader(test_dataset, batch_size=1, shuffle=True)\n",
        "\n",
        "class IntentClassifier(nn.Module):\n",
        "    def __init__(self):\n",
        "        super(IntentClassifier, self).__init__()\n",
        "        self.embedding = nn.Embedding(1000, 16)\n",
        "        self.flatten = nn.Flatten()\n",
        "        self.fc1 = nn.Linear(16 * 30, 6)\n",
        "        self.fc2 = nn.Linear(6, 3)\n",
        "        self.relu = nn.ReLU()\n",
        "\n",
        "    def forward(self, x):\n",
        "        embedded = self.embedding(x)\n",
        "        flatten = self.flatten(embedded)\n",
        "        out = self.relu(self.fc1(flatten))\n",
        "        out = self.fc2(out)\n",
        "        return out"
      ],
      "metadata": {
        "id": "LmbzTiHLtVqs"
      },
      "execution_count": null,
      "outputs": []
    },
    {
      "cell_type": "code",
      "source": [
        "def train(model, criterion, optimizer, loader):\n",
        "    model.train()\n",
        "    size = len(loader.dataset)\n",
        "    num_batches = len(loader)\n",
        "    train_loss, correct = 0, 0\n",
        "\n",
        "    for inputs, targets in loader:\n",
        "        inputs = inputs.to(device)\n",
        "        targets = targets.to(device)\n",
        "\n",
        "        optimizer.zero_grad()\n",
        "        outputs = model(inputs)\n",
        "        loss = criterion(outputs, targets)\n",
        "        loss.backward()\n",
        "        optimizer.step()\n",
        "\n",
        "        train_loss += loss.item()\n",
        "        correct += (outputs.argmax(1) == targets).sum().item()\n",
        "\n",
        "    train_loss /= num_batches\n",
        "    correct /= size\n",
        "    print(f\"loss: {train_loss:.4f}   accuracy: {correct:.4f}   \", end=\"\")\n",
        "\n",
        "def eval(model, criterion, loader):\n",
        "    model.eval()\n",
        "    size = len(loader.dataset)\n",
        "    num_batches = len(loader)\n",
        "    val_loss, correct = 0, 0\n",
        "\n",
        "    with torch.no_grad():\n",
        "        for inputs, targets in loader:\n",
        "            inputs = inputs.to(device)\n",
        "            targets = targets.to(device)\n",
        "\n",
        "            outputs = model(inputs)\n",
        "            loss = criterion(outputs, targets)\n",
        "\n",
        "            val_loss += loss.item()\n",
        "            correct += (outputs.argmax(1) == targets).sum().item()\n",
        "\n",
        "    val_loss /= num_batches\n",
        "    correct /= size\n",
        "    print(f\"val_loss: {val_loss:.4f}   val_accuracy: {correct:.4f}\")\n",
        "\n",
        "    return correct"
      ],
      "metadata": {
        "id": "tybZoeYJuYhI"
      },
      "execution_count": null,
      "outputs": []
    },
    {
      "cell_type": "code",
      "source": [
        "num_epochs = 100\n",
        "\n",
        "model = IntentClassifier().to(device)\n",
        "criterion = nn.CrossEntropyLoss()\n",
        "optimizer = Adam(model.parameters(), lr=0.0029)\n",
        "\n",
        "best_acc = 0\n",
        "for epoch in range(num_epochs):\n",
        "    print(f\"Epoch {epoch + 1}/{num_epochs}   \", end=\"\")\n",
        "\n",
        "    train(model, criterion, optimizer, train_loader)\n",
        "    val_acc = eval(model, criterion, test_loader)\n",
        "\n",
        "    if val_acc > best_acc:\n",
        "        torch.save(model.state_dict(), f\"intent.pth\")\n",
        "        best_acc = val_acc\n",
        "\n",
        "print(f\"Average accuracy: {best_acc:.4f}\")"
      ],
      "metadata": {
        "colab": {
          "base_uri": "https://localhost:8080/"
        },
        "id": "oE-GDnNouQKC",
        "outputId": "9d35d59c-95bd-4b9d-956f-c232d531e8d4"
      },
      "execution_count": null,
      "outputs": [
        {
          "output_type": "stream",
          "name": "stdout",
          "text": [
            "Epoch 1/100   loss: 0.7255   accuracy: 0.6557   val_loss: 0.5930   val_accuracy: 0.8585\n",
            "Epoch 2/100   loss: 0.3338   accuracy: 0.9505   val_loss: 0.3116   val_accuracy: 0.9340\n",
            "Epoch 3/100   loss: 0.1476   accuracy: 0.9929   val_loss: 0.2435   val_accuracy: 0.9057\n",
            "Epoch 4/100   loss: 0.0819   accuracy: 1.0000   val_loss: 0.1743   val_accuracy: 0.9434\n",
            "Epoch 5/100   loss: 0.0514   accuracy: 1.0000   val_loss: 0.1559   val_accuracy: 0.9528\n",
            "Epoch 6/100   loss: 0.0342   accuracy: 1.0000   val_loss: 0.1453   val_accuracy: 0.9528\n",
            "Epoch 7/100   loss: 0.0237   accuracy: 1.0000   val_loss: 0.1425   val_accuracy: 0.9528\n",
            "Epoch 8/100   loss: 0.0172   accuracy: 1.0000   val_loss: 0.1411   val_accuracy: 0.9528\n",
            "Epoch 9/100   loss: 0.0129   accuracy: 1.0000   val_loss: 0.1326   val_accuracy: 0.9528\n",
            "Epoch 10/100   loss: 0.0097   accuracy: 1.0000   val_loss: 0.1241   val_accuracy: 0.9528\n",
            "Epoch 11/100   loss: 0.0075   accuracy: 1.0000   val_loss: 0.1184   val_accuracy: 0.9528\n",
            "Epoch 12/100   loss: 0.0058   accuracy: 1.0000   val_loss: 0.1176   val_accuracy: 0.9528\n",
            "Epoch 13/100   loss: 0.0046   accuracy: 1.0000   val_loss: 0.1172   val_accuracy: 0.9528\n",
            "Epoch 14/100   loss: 0.0036   accuracy: 1.0000   val_loss: 0.1163   val_accuracy: 0.9528\n",
            "Epoch 15/100   loss: 0.0029   accuracy: 1.0000   val_loss: 0.1195   val_accuracy: 0.9528\n",
            "Epoch 16/100   loss: 0.0023   accuracy: 1.0000   val_loss: 0.1166   val_accuracy: 0.9528\n",
            "Epoch 17/100   loss: 0.0018   accuracy: 1.0000   val_loss: 0.1182   val_accuracy: 0.9528\n",
            "Epoch 18/100   loss: 0.0015   accuracy: 1.0000   val_loss: 0.1157   val_accuracy: 0.9623\n",
            "Epoch 19/100   loss: 0.0012   accuracy: 1.0000   val_loss: 0.1159   val_accuracy: 0.9623\n",
            "Epoch 20/100   loss: 0.0010   accuracy: 1.0000   val_loss: 0.1163   val_accuracy: 0.9528\n",
            "Epoch 21/100   loss: 0.0008   accuracy: 1.0000   val_loss: 0.1194   val_accuracy: 0.9623\n",
            "Epoch 22/100   loss: 0.0006   accuracy: 1.0000   val_loss: 0.1187   val_accuracy: 0.9623\n",
            "Epoch 23/100   loss: 0.0005   accuracy: 1.0000   val_loss: 0.1155   val_accuracy: 0.9623\n",
            "Epoch 24/100   loss: 0.0004   accuracy: 1.0000   val_loss: 0.1141   val_accuracy: 0.9623\n",
            "Epoch 25/100   loss: 0.0003   accuracy: 1.0000   val_loss: 0.1154   val_accuracy: 0.9623\n",
            "Epoch 26/100   loss: 0.0003   accuracy: 1.0000   val_loss: 0.1145   val_accuracy: 0.9623\n",
            "Epoch 27/100   loss: 0.0002   accuracy: 1.0000   val_loss: 0.1103   val_accuracy: 0.9623\n",
            "Epoch 28/100   loss: 0.0002   accuracy: 1.0000   val_loss: 0.1166   val_accuracy: 0.9623\n",
            "Epoch 29/100   loss: 0.0001   accuracy: 1.0000   val_loss: 0.1152   val_accuracy: 0.9623\n",
            "Epoch 30/100   loss: 0.0001   accuracy: 1.0000   val_loss: 0.1148   val_accuracy: 0.9623\n",
            "Epoch 31/100   loss: 0.0001   accuracy: 1.0000   val_loss: 0.1119   val_accuracy: 0.9623\n",
            "Epoch 32/100   loss: 0.0001   accuracy: 1.0000   val_loss: 0.1135   val_accuracy: 0.9623\n",
            "Epoch 33/100   loss: 0.0001   accuracy: 1.0000   val_loss: 0.1114   val_accuracy: 0.9623\n",
            "Epoch 34/100   loss: 0.0001   accuracy: 1.0000   val_loss: 0.1125   val_accuracy: 0.9623\n",
            "Epoch 35/100   loss: 0.0000   accuracy: 1.0000   val_loss: 0.1121   val_accuracy: 0.9623\n",
            "Epoch 36/100   loss: 0.0000   accuracy: 1.0000   val_loss: 0.1082   val_accuracy: 0.9623\n",
            "Epoch 37/100   loss: 0.0000   accuracy: 1.0000   val_loss: 0.1076   val_accuracy: 0.9623\n",
            "Epoch 38/100   loss: 0.0000   accuracy: 1.0000   val_loss: 0.1119   val_accuracy: 0.9623\n",
            "Epoch 39/100   loss: 0.0000   accuracy: 1.0000   val_loss: 0.1118   val_accuracy: 0.9623\n",
            "Epoch 40/100   loss: 0.0000   accuracy: 1.0000   val_loss: 0.1070   val_accuracy: 0.9623\n",
            "Epoch 41/100   loss: 0.0000   accuracy: 1.0000   val_loss: 0.1065   val_accuracy: 0.9623\n",
            "Epoch 42/100   loss: 0.0000   accuracy: 1.0000   val_loss: 0.1011   val_accuracy: 0.9717\n",
            "Epoch 43/100   loss: 0.0000   accuracy: 1.0000   val_loss: 0.0956   val_accuracy: 0.9717\n",
            "Epoch 44/100   loss: 0.0000   accuracy: 1.0000   val_loss: 0.0973   val_accuracy: 0.9623\n",
            "Epoch 45/100   loss: 0.0000   accuracy: 1.0000   val_loss: 0.0954   val_accuracy: 0.9623\n",
            "Epoch 46/100   loss: 0.0000   accuracy: 1.0000   val_loss: 0.0974   val_accuracy: 0.9623\n",
            "Epoch 47/100   loss: 0.0000   accuracy: 1.0000   val_loss: 0.1188   val_accuracy: 0.9623\n",
            "Epoch 48/100   loss: 0.0000   accuracy: 1.0000   val_loss: 0.1140   val_accuracy: 0.9623\n",
            "Epoch 49/100   loss: 0.0000   accuracy: 1.0000   val_loss: 0.1155   val_accuracy: 0.9717\n",
            "Epoch 50/100   loss: 0.0000   accuracy: 1.0000   val_loss: 0.1105   val_accuracy: 0.9623\n",
            "Epoch 51/100   loss: 0.0000   accuracy: 1.0000   val_loss: 0.1098   val_accuracy: 0.9623\n",
            "Epoch 52/100   loss: 0.0000   accuracy: 1.0000   val_loss: 0.1123   val_accuracy: 0.9717\n",
            "Epoch 53/100   loss: 0.0000   accuracy: 1.0000   val_loss: 0.1118   val_accuracy: 0.9623\n",
            "Epoch 54/100   loss: 0.0000   accuracy: 1.0000   val_loss: 0.1126   val_accuracy: 0.9717\n",
            "Epoch 55/100   loss: 0.0000   accuracy: 1.0000   val_loss: 0.1118   val_accuracy: 0.9717\n",
            "Epoch 56/100   loss: 0.0000   accuracy: 1.0000   val_loss: 0.1105   val_accuracy: 0.9717\n",
            "Epoch 57/100   loss: 0.0000   accuracy: 1.0000   val_loss: 0.1172   val_accuracy: 0.9717\n",
            "Epoch 58/100   loss: 0.0000   accuracy: 1.0000   val_loss: 0.1125   val_accuracy: 0.9811\n",
            "Epoch 59/100   loss: 0.0000   accuracy: 1.0000   val_loss: 0.1091   val_accuracy: 0.9811\n",
            "Epoch 60/100   loss: 0.0000   accuracy: 1.0000   val_loss: 0.1150   val_accuracy: 0.9717\n",
            "Epoch 61/100   loss: 0.0000   accuracy: 1.0000   val_loss: 0.1103   val_accuracy: 0.9717\n",
            "Epoch 62/100   loss: 0.0000   accuracy: 1.0000   val_loss: 0.1144   val_accuracy: 0.9717\n",
            "Epoch 63/100   loss: 0.0000   accuracy: 1.0000   val_loss: 0.1199   val_accuracy: 0.9811\n",
            "Epoch 64/100   loss: 0.0000   accuracy: 1.0000   val_loss: 0.1193   val_accuracy: 0.9811\n",
            "Epoch 65/100   loss: 0.0000   accuracy: 1.0000   val_loss: 0.1256   val_accuracy: 0.9811\n",
            "Epoch 66/100   loss: 0.0000   accuracy: 1.0000   val_loss: 0.1204   val_accuracy: 0.9811\n",
            "Epoch 67/100   loss: 0.0000   accuracy: 1.0000   val_loss: 0.1189   val_accuracy: 0.9811\n",
            "Epoch 68/100   loss: 0.0000   accuracy: 1.0000   val_loss: 0.1192   val_accuracy: 0.9811\n",
            "Epoch 69/100   loss: 0.0000   accuracy: 1.0000   val_loss: 0.1220   val_accuracy: 0.9811\n",
            "Epoch 70/100   loss: 0.0000   accuracy: 1.0000   val_loss: 0.1286   val_accuracy: 0.9811\n",
            "Epoch 71/100   loss: 0.0000   accuracy: 1.0000   val_loss: 0.1313   val_accuracy: 0.9717\n",
            "Epoch 72/100   loss: 0.0000   accuracy: 1.0000   val_loss: 0.1367   val_accuracy: 0.9811\n",
            "Epoch 73/100   loss: 0.0000   accuracy: 1.0000   val_loss: 0.1265   val_accuracy: 0.9811\n",
            "Epoch 74/100   loss: 0.0000   accuracy: 1.0000   val_loss: 0.1289   val_accuracy: 0.9811\n",
            "Epoch 75/100   loss: 0.0000   accuracy: 1.0000   val_loss: 0.1204   val_accuracy: 0.9811\n",
            "Epoch 76/100   loss: 0.0000   accuracy: 1.0000   val_loss: 0.1240   val_accuracy: 0.9717\n",
            "Epoch 77/100   loss: 0.0000   accuracy: 1.0000   val_loss: 0.1223   val_accuracy: 0.9717\n",
            "Epoch 78/100   loss: 0.0000   accuracy: 1.0000   val_loss: 0.1219   val_accuracy: 0.9717\n",
            "Epoch 79/100   loss: 0.0000   accuracy: 1.0000   val_loss: 0.1224   val_accuracy: 0.9717\n",
            "Epoch 80/100   loss: 0.0000   accuracy: 1.0000   val_loss: 0.1247   val_accuracy: 0.9717\n",
            "Epoch 81/100   loss: 0.0000   accuracy: 1.0000   val_loss: 0.1217   val_accuracy: 0.9717\n",
            "Epoch 82/100   loss: 0.0000   accuracy: 1.0000   val_loss: 0.1258   val_accuracy: 0.9717\n",
            "Epoch 83/100   loss: 0.0000   accuracy: 1.0000   val_loss: 0.1294   val_accuracy: 0.9717\n",
            "Epoch 84/100   loss: 0.0000   accuracy: 1.0000   val_loss: 0.1252   val_accuracy: 0.9717\n",
            "Epoch 85/100   loss: 0.0000   accuracy: 1.0000   val_loss: 0.1391   val_accuracy: 0.9717\n",
            "Epoch 86/100   loss: 0.0000   accuracy: 1.0000   val_loss: 0.1342   val_accuracy: 0.9811\n",
            "Epoch 87/100   loss: 0.0000   accuracy: 1.0000   val_loss: 0.1340   val_accuracy: 0.9717\n",
            "Epoch 88/100   loss: 0.0000   accuracy: 1.0000   val_loss: 0.1287   val_accuracy: 0.9717\n",
            "Epoch 89/100   loss: 0.0000   accuracy: 1.0000   val_loss: 0.1223   val_accuracy: 0.9717\n",
            "Epoch 90/100   loss: 0.0000   accuracy: 1.0000   val_loss: 0.1156   val_accuracy: 0.9717\n",
            "Epoch 91/100   loss: 0.0000   accuracy: 1.0000   val_loss: 0.1889   val_accuracy: 0.9811\n",
            "Epoch 92/100   loss: 0.0000   accuracy: 1.0000   val_loss: 0.1660   val_accuracy: 0.9811\n",
            "Epoch 93/100   loss: 0.0000   accuracy: 1.0000   val_loss: 0.1772   val_accuracy: 0.9717\n",
            "Epoch 94/100   loss: 0.0000   accuracy: 1.0000   val_loss: 0.1673   val_accuracy: 0.9717\n",
            "Epoch 95/100   loss: 0.0000   accuracy: 1.0000   val_loss: 0.1650   val_accuracy: 0.9717\n",
            "Epoch 96/100   loss: 0.0000   accuracy: 1.0000   val_loss: 0.1632   val_accuracy: 0.9717\n",
            "Epoch 97/100   loss: 0.0000   accuracy: 1.0000   val_loss: 0.1618   val_accuracy: 0.9717\n",
            "Epoch 98/100   loss: 0.0000   accuracy: 1.0000   val_loss: 0.1607   val_accuracy: 0.9717\n",
            "Epoch 99/100   loss: 0.0000   accuracy: 1.0000   val_loss: 0.1595   val_accuracy: 0.9717\n",
            "Epoch 100/100   loss: 0.0000   accuracy: 1.0000   val_loss: 0.1586   val_accuracy: 0.9717\n",
            "Average accuracy: 0.9811\n"
          ]
        }
      ]
    },
    {
      "cell_type": "code",
      "source": [
        "model = IntentClassifier().to(device)\n",
        "model.load_state_dict(torch.load(f\"intent.pth\"))\n",
        "model.eval()"
      ],
      "metadata": {
        "colab": {
          "base_uri": "https://localhost:8080/"
        },
        "id": "UcmLVHf0u0y6",
        "outputId": "72b9551c-f947-4c33-f8ea-8d125cbaa422"
      },
      "execution_count": null,
      "outputs": [
        {
          "output_type": "execute_result",
          "data": {
            "text/plain": [
              "IntentClassifier(\n",
              "  (embedding): Embedding(1000, 16)\n",
              "  (flatten): Flatten(start_dim=1, end_dim=-1)\n",
              "  (fc1): Linear(in_features=480, out_features=6, bias=True)\n",
              "  (fc2): Linear(in_features=6, out_features=3, bias=True)\n",
              "  (relu): ReLU()\n",
              ")"
            ]
          },
          "metadata": {},
          "execution_count": 16
        }
      ]
    },
    {
      "cell_type": "code",
      "source": [
        "from sklearn.metrics import classification_report\n",
        "\n",
        "def test(loader):\n",
        "    predicts = []\n",
        "    true_labels = []\n",
        "\n",
        "    with torch.no_grad():\n",
        "        for inputs, targets in loader:\n",
        "            inputs = inputs.to(device)\n",
        "            targets = targets.to(device)\n",
        "\n",
        "            outputs = model(inputs)\n",
        "            _, pred = torch.max(outputs, 1)\n",
        "            predicts.extend(pred)\n",
        "            true_labels.extend(targets)\n",
        "\n",
        "    predicts = torch.stack(predicts).cpu()\n",
        "    true_labels = torch.stack(true_labels).cpu()\n",
        "    print(classification_report(true_labels, predicts, digits=4))"
      ],
      "metadata": {
        "id": "Kb71Tz6Iw18w"
      },
      "execution_count": null,
      "outputs": []
    },
    {
      "cell_type": "code",
      "source": [
        "test(test_loader)"
      ],
      "metadata": {
        "colab": {
          "base_uri": "https://localhost:8080/"
        },
        "id": "JX6skgmyw4lb",
        "outputId": "4fcb3cd8-44fc-4c7c-a4be-9969e0764085"
      },
      "execution_count": null,
      "outputs": [
        {
          "output_type": "stream",
          "name": "stdout",
          "text": [
            "              precision    recall  f1-score   support\n",
            "\n",
            "           0     1.0000    0.9608    0.9800        51\n",
            "           1     1.0000    1.0000    1.0000        27\n",
            "           2     0.9333    1.0000    0.9655        28\n",
            "\n",
            "    accuracy                         0.9811       106\n",
            "   macro avg     0.9778    0.9869    0.9818       106\n",
            "weighted avg     0.9824    0.9811    0.9813       106\n",
            "\n"
          ]
        }
      ]
    },
    {
      "cell_type": "code",
      "source": [
        "print(label_encoder.inverse_transform([0, 1, 2]))"
      ],
      "metadata": {
        "colab": {
          "base_uri": "https://localhost:8080/"
        },
        "id": "l0AZ421ixEQK",
        "outputId": "58fee0ae-18b3-4f4d-82fb-a3ffea24448f"
      },
      "execution_count": null,
      "outputs": [
        {
          "output_type": "stream",
          "name": "stdout",
          "text": [
            "['enroll' 'inform' 'search']\n"
          ]
        }
      ]
    },
    {
      "cell_type": "code",
      "source": [
        "def identify_intent(sentence):\n",
        "    sequence = tokenizer.texts_to_sequences([sentence])\n",
        "    padded = pad_sequences(sequence, maxlen=30, padding=\"post\", truncating=\"post\")\n",
        "    inputs = torch.tensor(padded).to(device)\n",
        "\n",
        "    outputs = model(inputs)\n",
        "    pred = torch.argmax(outputs, 1).item()\n",
        "    intent = label_encoder.inverse_transform([pred])[0]\n",
        "\n",
        "    return intent"
      ],
      "metadata": {
        "id": "8Ei7qaRDmFNp"
      },
      "execution_count": null,
      "outputs": []
    },
    {
      "cell_type": "code",
      "source": [
        "print(identify_intent(\"Enroll me in 6.006 for winter\"))\n",
        "print(identify_intent(\"List me some Physics course\"))\n",
        "print(identify_intent(\"could you list several physics courses\"))"
      ],
      "metadata": {
        "colab": {
          "base_uri": "https://localhost:8080/"
        },
        "id": "nYChIilqxieS",
        "outputId": "4aad3d53-205f-474c-cc18-e9208cd66ad5"
      },
      "execution_count": null,
      "outputs": [
        {
          "output_type": "stream",
          "name": "stdout",
          "text": [
            "enroll\n",
            "search\n",
            "search\n"
          ]
        }
      ]
    },
    {
      "cell_type": "code",
      "source": [],
      "metadata": {
        "id": "WtoYncYi2jY_"
      },
      "execution_count": null,
      "outputs": []
    }
  ]
}